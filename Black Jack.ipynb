{
 "cells": [
  {
   "cell_type": "code",
   "execution_count": 2,
   "metadata": {},
   "outputs": [
    {
     "ename": "NameError",
     "evalue": "name 'a' is not defined",
     "output_type": "error",
     "traceback": [
      "\u001b[1;31m---------------------------------------------------------------------------\u001b[0m",
      "\u001b[1;31mNameError\u001b[0m                                 Traceback (most recent call last)",
      "\u001b[1;32m<ipython-input-2-04564aa92f9b>\u001b[0m in \u001b[0;36m<module>\u001b[1;34m()\u001b[0m\n\u001b[1;32m----> 1\u001b[1;33m \u001b[1;36m2\u001b[0m\u001b[1;33m-\u001b[0m\u001b[0ma\u001b[0m\u001b[1;33m,\u001b[0m\u001b[0mb\u001b[0m\u001b[1;33m,\u001b[0m\u001b[0mc\u001b[0m\u001b[1;33m\u001b[0m\u001b[0m\n\u001b[0m\u001b[0;32m      2\u001b[0m \u001b[1;36m3\u001b[0m\u001b[1;33m-\u001b[0m\u001b[0md\u001b[0m\u001b[1;33m,\u001b[0m\u001b[0me\u001b[0m\u001b[1;33m,\u001b[0m\u001b[0mf\u001b[0m\u001b[1;33m\u001b[0m\u001b[0m\n\u001b[0;32m      3\u001b[0m \u001b[1;36m4\u001b[0m\u001b[1;33m-\u001b[0m\u001b[0mg\u001b[0m\u001b[1;33m,\u001b[0m\u001b[0mh\u001b[0m\u001b[1;33m,\u001b[0m\u001b[0mi\u001b[0m\u001b[1;33m\u001b[0m\u001b[0m\n\u001b[0;32m      4\u001b[0m \u001b[1;36m5\u001b[0m\u001b[1;33m-\u001b[0m\u001b[0mj\u001b[0m\u001b[1;33m,\u001b[0m\u001b[0mk\u001b[0m\u001b[1;33m,\u001b[0m\u001b[0ml\u001b[0m\u001b[1;33m\u001b[0m\u001b[0m\n\u001b[0;32m      5\u001b[0m \u001b[1;36m6\u001b[0m\u001b[1;33m-\u001b[0m\u001b[0mm\u001b[0m\u001b[1;33m,\u001b[0m\u001b[0mn\u001b[0m\u001b[1;33m,\u001b[0m\u001b[0mo\u001b[0m\u001b[1;33m\u001b[0m\u001b[0m\n",
      "\u001b[1;31mNameError\u001b[0m: name 'a' is not defined"
     ]
    }
   ],
   "source": [
    "2-a,b,c\n",
    "3-d,e,f\n",
    "4-g,h,i\n",
    "5-j,k,l\n",
    "6-m,n,o\n",
    "7-p,q,r,s\n",
    "8-t,u,v\n",
    "9-w,x,y,z"
   ]
  },
  {
   "cell_type": "code",
   "execution_count": 10,
   "metadata": {},
   "outputs": [
    {
     "name": "stdout",
     "output_type": "stream",
     "text": [
      "1\n",
      "2\n",
      "3\n",
      "4\n",
      "bye\n"
     ]
    },
    {
     "ename": "ValueError",
     "evalue": "invalid literal for int() with base 10: 'bye'",
     "output_type": "error",
     "traceback": [
      "\u001b[1;31m---------------------------------------------------------------------------\u001b[0m",
      "\u001b[1;31mValueError\u001b[0m                                Traceback (most recent call last)",
      "\u001b[1;32m<ipython-input-10-fcb394cc8298>\u001b[0m in \u001b[0;36m<module>\u001b[1;34m()\u001b[0m\n\u001b[0;32m      1\u001b[0m \u001b[1;32mwhile\u001b[0m \u001b[1;32mTrue\u001b[0m\u001b[1;33m:\u001b[0m\u001b[1;33m\u001b[0m\u001b[0m\n\u001b[1;32m----> 2\u001b[1;33m     \u001b[0ma\u001b[0m\u001b[1;33m=\u001b[0m\u001b[0mint\u001b[0m\u001b[1;33m(\u001b[0m\u001b[0minput\u001b[0m\u001b[1;33m(\u001b[0m\u001b[1;34m\"\"\u001b[0m\u001b[1;33m)\u001b[0m\u001b[1;33m)\u001b[0m\u001b[1;33m\u001b[0m\u001b[0m\n\u001b[0m\u001b[0;32m      3\u001b[0m     \u001b[1;32mif\u001b[0m \u001b[0ma\u001b[0m\u001b[1;33m==\u001b[0m\u001b[1;34m\"bye\"\u001b[0m\u001b[1;33m:\u001b[0m\u001b[1;33m\u001b[0m\u001b[0m\n\u001b[0;32m      4\u001b[0m         \u001b[1;32mbreak\u001b[0m\u001b[1;33m\u001b[0m\u001b[0m\n\u001b[0;32m      5\u001b[0m \u001b[1;33m\u001b[0m\u001b[0m\n",
      "\u001b[1;31mValueError\u001b[0m: invalid literal for int() with base 10: 'bye'"
     ]
    }
   ],
   "source": [
    "while True:\n",
    "    a=(input(\"\")\n",
    "    if a==\"bye\":\n",
    "        break\n",
    "    \n",
    "    else:\n",
    "        pass\n",
    "    \n",
    "a=list(a)    \n",
    "print(max(a))"
   ]
  },
  {
   "cell_type": "code",
   "execution_count": 87,
   "metadata": {},
   "outputs": [
    {
     "name": "stdout",
     "output_type": "stream",
     "text": [
      "1\n",
      "2\n"
     ]
    }
   ],
   "source": [
    "z=[1,2]\n",
    "print(z[0])\n",
    "print(z[1])"
   ]
  },
  {
   "cell_type": "code",
   "execution_count": 88,
   "metadata": {},
   "outputs": [
    {
     "data": {
      "text/plain": [
       "[1]"
      ]
     },
     "execution_count": 88,
     "metadata": {},
     "output_type": "execute_result"
    }
   ],
   "source": [
    "y=[]\n",
    "y.insert(0,z.pop(z.index(1)))\n",
    "y"
   ]
  },
  {
   "cell_type": "code",
   "execution_count": 32,
   "metadata": {},
   "outputs": [
    {
     "data": {
      "text/plain": [
       "[10, 9]"
      ]
     },
     "execution_count": 32,
     "metadata": {},
     "output_type": "execute_result"
    }
   ],
   "source": [
    "b.append(random.randint(1,11))\n",
    "b"
   ]
  },
  {
   "cell_type": "code",
   "execution_count": 24,
   "metadata": {},
   "outputs": [
    {
     "data": {
      "text/plain": [
       "[0, 1, 1]"
      ]
     },
     "execution_count": 24,
     "metadata": {},
     "output_type": "execute_result"
    }
   ],
   "source": []
  },
  {
   "cell_type": "code",
   "execution_count": 13,
   "metadata": {},
   "outputs": [
    {
     "data": {
      "text/plain": [
       "NoneType"
      ]
     },
     "execution_count": 13,
     "metadata": {},
     "output_type": "execute_result"
    }
   ],
   "source": [
    "type(a)"
   ]
  },
  {
   "cell_type": "code",
   "execution_count": 14,
   "metadata": {},
   "outputs": [],
   "source": [
    "a=[0]"
   ]
  },
  {
   "cell_type": "code",
   "execution_count": 15,
   "metadata": {},
   "outputs": [
    {
     "data": {
      "text/plain": [
       "[0]"
      ]
     },
     "execution_count": 15,
     "metadata": {},
     "output_type": "execute_result"
    }
   ],
   "source": [
    "a"
   ]
  },
  {
   "cell_type": "code",
   "execution_count": 16,
   "metadata": {},
   "outputs": [
    {
     "data": {
      "text/plain": [
       "list"
      ]
     },
     "execution_count": 16,
     "metadata": {},
     "output_type": "execute_result"
    }
   ],
   "source": [
    "type(a)"
   ]
  },
  {
   "cell_type": "code",
   "execution_count": 18,
   "metadata": {},
   "outputs": [],
   "source": [
    "a.insert(1,1)"
   ]
  },
  {
   "cell_type": "code",
   "execution_count": 27,
   "metadata": {},
   "outputs": [],
   "source": [
    "a=[]"
   ]
  },
  {
   "cell_type": "code",
   "execution_count": 28,
   "metadata": {},
   "outputs": [],
   "source": [
    "b=[]"
   ]
  },
  {
   "cell_type": "code",
   "execution_count": 3,
   "metadata": {},
   "outputs": [],
   "source": [
    "import random"
   ]
  },
  {
   "cell_type": "code",
   "execution_count": 22,
   "metadata": {},
   "outputs": [
    {
     "data": {
      "text/plain": [
       "1"
      ]
     },
     "execution_count": 22,
     "metadata": {},
     "output_type": "execute_result"
    }
   ],
   "source": [
    "random.randint(1,11)"
   ]
  },
  {
   "cell_type": "code",
   "execution_count": 35,
   "metadata": {},
   "outputs": [
    {
     "ename": "TypeError",
     "evalue": "object of type 'int' has no len()",
     "output_type": "error",
     "traceback": [
      "\u001b[1;31m---------------------------------------------------------------------------\u001b[0m",
      "\u001b[1;31mTypeError\u001b[0m                                 Traceback (most recent call last)",
      "\u001b[1;32m<ipython-input-35-90a40eaecd18>\u001b[0m in \u001b[0;36m<module>\u001b[1;34m()\u001b[0m\n\u001b[1;32m----> 1\u001b[1;33m \u001b[1;32mwhile\u001b[0m \u001b[0mlen\u001b[0m\u001b[1;33m(\u001b[0m\u001b[0ma\u001b[0m\u001b[1;33m)\u001b[0m\u001b[1;33m!=\u001b[0m\u001b[1;36m2\u001b[0m\u001b[1;33m:\u001b[0m\u001b[1;33m\u001b[0m\u001b[0m\n\u001b[0m\u001b[0;32m      2\u001b[0m     \u001b[0ma\u001b[0m\u001b[1;33m.\u001b[0m\u001b[0mappend\u001b[0m\u001b[1;33m(\u001b[0m\u001b[0mrandom\u001b[0m\u001b[1;33m.\u001b[0m\u001b[0mrandint\u001b[0m\u001b[1;33m(\u001b[0m\u001b[1;36m1\u001b[0m\u001b[1;33m,\u001b[0m\u001b[1;36m11\u001b[0m\u001b[1;33m)\u001b[0m\u001b[1;33m)\u001b[0m\u001b[1;33m\u001b[0m\u001b[0m\n\u001b[0;32m      3\u001b[0m \u001b[1;33m\u001b[0m\u001b[0m\n",
      "\u001b[1;31mTypeError\u001b[0m: object of type 'int' has no len()"
     ]
    }
   ],
   "source": [
    "while len(a)!=2:\n",
    "    a.append(random.randint(1,11))\n",
    "    "
   ]
  },
  {
   "cell_type": "code",
   "execution_count": 36,
   "metadata": {},
   "outputs": [
    {
     "data": {
      "text/plain": [
       "0"
      ]
     },
     "execution_count": 36,
     "metadata": {},
     "output_type": "execute_result"
    }
   ],
   "source": [
    "a"
   ]
  },
  {
   "cell_type": "code",
   "execution_count": 47,
   "metadata": {},
   "outputs": [],
   "source": [
    "a=[]\n",
    "b=[]"
   ]
  },
  {
   "cell_type": "code",
   "execution_count": 48,
   "metadata": {},
   "outputs": [
    {
     "data": {
      "text/plain": [
       "[]"
      ]
     },
     "execution_count": 48,
     "metadata": {},
     "output_type": "execute_result"
    }
   ],
   "source": [
    "a"
   ]
  },
  {
   "cell_type": "code",
   "execution_count": 5,
   "metadata": {},
   "outputs": [
    {
     "name": "stdout",
     "output_type": "stream",
     "text": [
      "The Number on cards are 5\n"
     ]
    }
   ],
   "source": [
    "import random\n",
    "\n",
    "#Dealer\n",
    "\n",
    "a=[]\n",
    "for i in range(2):\n",
    "    a.append(random.randint(1,11))\n",
    "print(\"The Number on cards are\",a[1])\n",
    "sum_deal=sum(a)"
   ]
  },
  {
   "cell_type": "code",
   "execution_count": 30,
   "metadata": {},
   "outputs": [],
   "source": [
    "import pprint"
   ]
  },
  {
   "cell_type": "code",
   "execution_count": 33,
   "metadata": {},
   "outputs": [
    {
     "data": {
      "text/plain": [
       "[[[], [], []]]"
      ]
     },
     "execution_count": 33,
     "metadata": {},
     "output_type": "execute_result"
    }
   ],
   "source": [
    "a=[[[]*3]*3]\n",
    "a"
   ]
  },
  {
   "cell_type": "code",
   "execution_count": 14,
   "metadata": {},
   "outputs": [
    {
     "name": "stdout",
     "output_type": "stream",
     "text": [
      "[3]\n",
      "[1]\n",
      "[2]\n"
     ]
    }
   ],
   "source": [
    "print(a)\n",
    "print(b)\n",
    "print(c)"
   ]
  },
  {
   "cell_type": "code",
   "execution_count": 16,
   "metadata": {},
   "outputs": [],
   "source": [
    "def hii(n , first,last,mid): \n",
    "    if n == 1: \n",
    "        print (\"Move disk 1 from rod\",first,\"to rod\",last)\n",
    "        return\n",
    "    else:\n",
    "        hii(n-1, first, mid, last) \n",
    "        print (\"Move disk\",n,\"from rod\",first,\"to rod\",last) \n",
    "        hii(n-1, mid, last, first)"
   ]
  },
  {
   "cell_type": "code",
   "execution_count": 21,
   "metadata": {},
   "outputs": [
    {
     "name": "stdout",
     "output_type": "stream",
     "text": [
      "Move disk 1 from rod 1 to rod 3\n",
      "Move disk 2 from rod 1 to rod 2\n",
      "Move disk 1 from rod 3 to rod 2\n"
     ]
    }
   ],
   "source": [
    "hii(2,1,2,3)"
   ]
  },
  {
   "cell_type": "code",
   "execution_count": 6,
   "metadata": {},
   "outputs": [
    {
     "name": "stdout",
     "output_type": "stream",
     "text": [
      "The Number on cards are [4, 7]\n",
      "The Sum of Player:  11\n",
      "Do you want to hit or stay or double: hit\n",
      "[4, 7, 6]\n",
      "The Sum of Your Cards are:  17\n",
      "Do you want to hit or stay or double: stay\n",
      "Your Sum is 17\n",
      "Dealer Sum is:  15\n"
     ]
    }
   ],
   "source": [
    "\n",
    "#Player\n",
    "\n",
    "b=[]\n",
    "b1=[]\n",
    "b2=[]\n",
    "for i in range(2):\n",
    "    b.append(random.randint(1,11))\n",
    "print(\"The Number on cards are\",b)\n",
    "sum_player=sum(b)\n",
    "print(\"The Sum of Player: \",sum_player)\n",
    "if b[0]==b[1]:\n",
    "    q=input(\"Do you want to split?(yes/no)\")\n",
    "    if q==\"yes\":\n",
    "        b1.insert(0,b.pop(b.index(b[0])))\n",
    "        b2.insert(1,b.pop(b.index(b[0])))\n",
    "        print(\"Now you have 2 sets \",b1,b2)\n",
    "        b1.append(random.randint(1,11))\n",
    "        b2.append(random.randint(1,11))\n",
    "        print(\"The final set is \",b1,b2)\n",
    "        sum_player1=sum(b1)\n",
    "        sum_player2=sum(b2)\n",
    "        \n",
    "\n",
    "        while sum(b1)<21:\n",
    "            \n",
    "            p=input(\"Do you want to hit or stay or double for your first deck: \")\n",
    "            if p==\"hit\":\n",
    "                b1.append(random.randint(1,11))\n",
    "               \n",
    "                 \n",
    "                print(b1)\n",
    "                sum_player1=sum(b1)\n",
    "                print(\"The Sum of Your Cards are: \",sum_player1)\n",
    "            elif p==\"double\" and len(b1)==2:\n",
    "                b1.append(random.randint(1,11))\n",
    "                print(b1)\n",
    "                sum_player1=sum(b1)\n",
    "                print(\"The Sum of Your Cards are: \",sum_player1)\n",
    "                break\n",
    "            else:\n",
    "                \n",
    "                print(\"Your Sum is\",sum_player1)\n",
    "                print(\"Dealer Sum is: \",sum_deal)\n",
    "                break\n",
    "        sum_deal=sum(a)\n",
    "        \n",
    "        while sum(b2)<21:\n",
    "            \n",
    "            r=input(\"Do you want to hit or stay or double for your second deck: \")\n",
    "            if r==\"hit\":\n",
    "                b2.append(random.randint(1,11))\n",
    "                                \n",
    "                print(b2)\n",
    "                sum_player2=sum(b2)\n",
    "                print(\"The Sum of Your Cards are: \",sum_player2)\n",
    "            elif r==\"double\" and len(b2)==2:\n",
    "                b2.append(random.randint(1,11))\n",
    "                print(b2)\n",
    "                sum_player1=sum(b2)\n",
    "                print(\"The Sum of Your Cards are: \",sum_player2)\n",
    "                break\n",
    "            else:\n",
    "                print(\"Your Sum is\",sum_player2)\n",
    "                print(\"Dealer Sum is: \",sum_deal)\n",
    "                break\n",
    "        sum_deal=sum(a)\n",
    "   \n",
    "\n",
    "\n",
    "\n",
    "    \n",
    "    while sum_deal<17:\n",
    "        a.append(random.randint(1,11))\n",
    "        print(\"The Number on cards are\",a)\n",
    "        sum_deal=sum(a)\n",
    "        print(\"The Sum of Dealer is: \",sum_deal)\n",
    "    if sum_deal<sum_player1 and sum_player1<=21:\n",
    "        \n",
    "        print(\"Player wins with 1st deck as \",sum_player1,\"is greater than\",sum_deal)\n",
    "    elif sum_deal<sum_player2 and sum_player2<=21:\n",
    "        \n",
    "        print(\"Player wins with 2nd deck as \",sum_player2,\"is greater than\",sum_deal)\n",
    "    \n",
    "    elif sum_deal>21:\n",
    "        print(\"Player wins,Dealer busted with total of \",sum_deal)\n",
    "    elif sum_player1==sum_deal or sum_player2==sum_deal:\n",
    "        \n",
    "        print(\"Draw,Both Dealer and Player has same total \",sum_deal)\n",
    "    else:\n",
    "        print(\"Dealer wins as \",sum_deal,\"is greater than\",sum_player1, \"and\",sum_player2)\n",
    "else:\n",
    "    \n",
    "    while sum(b)<21:\n",
    "        p=input(\"Do you want to hit or stay or double: \")\n",
    "        if p==\"hit\":\n",
    "            b.append(random.randint(1,11))\n",
    "           \n",
    "             \n",
    "            print(b)\n",
    "            sum_player=sum(b)\n",
    "            print(\"The Sum of Your Cards are: \",sum_player)\n",
    "        elif p==\"double\" and len(b)==2:\n",
    "            b.append(random.randint(1,11))\n",
    "            print(b)\n",
    "            sum_player=sum(b)\n",
    "            print(\"The Sum of Your Cards are: \",sum_player)\n",
    "            break\n",
    "        else:\n",
    "            \n",
    "            print(\"Your Sum is\",sum_player)\n",
    "            print(\"Dealer Sum is: \",sum_deal)\n",
    "            break\n",
    "    sum_deal=sum(a)\n",
    "    "
   ]
  },
  {
   "cell_type": "code",
   "execution_count": 7,
   "metadata": {},
   "outputs": [
    {
     "name": "stdout",
     "output_type": "stream",
     "text": [
      "The Number on cards are [10, 5, 3]\n",
      "The Sum of Dealer is:  18\n",
      "Dealer wins as  18 is greater than 17\n"
     ]
    }
   ],
   "source": [
    "while sum_deal<17:\n",
    "    a.append(random.randint(1,11))\n",
    "    print(\"The Number on cards are\",a)\n",
    "    sum_deal=sum(a)\n",
    "    print(\"The Sum of Dealer is: \",sum_deal)\n",
    "if sum_deal<sum_player and sum_player<=21:\n",
    "    \n",
    "    print(\"Player wins as \",sum_player,\"is greater than\",sum_deal)\n",
    "elif sum_deal>21:\n",
    "    print(\"Player wins,Dealer busted with total of \",sum_deal)\n",
    "elif sum_player>21:\n",
    "    print(\"Dealer wins,Player busted with total of \",sum_player)\n",
    "elif sum_player==sum_deal:\n",
    "    \n",
    "    print(\"Draw,Both Dealer and Player has same total \",sum_deal)\n",
    "else:\n",
    "    print(\"Dealer wins as \",sum_deal,\"is greater than\",sum_player)\n",
    "          "
   ]
  },
  {
   "cell_type": "code",
   "execution_count": null,
   "metadata": {},
   "outputs": [],
   "source": []
  },
  {
   "cell_type": "code",
   "execution_count": 74,
   "metadata": {},
   "outputs": [
    {
     "name": "stdout",
     "output_type": "stream",
     "text": [
      "Do you want to hit or stay or double: stay\n",
      "Your Sum is 15\n",
      "Dealer Sum is:  13\n"
     ]
    }
   ],
   "source": [
    "p=input(\"Do you want to hit or stay or double: \")\n",
    "while sum(b)<21:\n",
    "    \n",
    "    if p==\"hit\":\n",
    "        b.append(random.randint(1,11))\n",
    "       \n",
    "         \n",
    "        print(b)\n",
    "        sum_player=sum(b)\n",
    "        print(\"The Sum of Your Cards are: \",sum_player)\n",
    "    elif p==\"double\":\n",
    "        b.append(random.randint(1,11))\n",
    "        print(b)\n",
    "        sum_player=sum(b)\n",
    "        print(\"The Sum of Your Cards are: \",sum_player)\n",
    "        break\n",
    "    else:\n",
    "        \n",
    "        print(\"Your Sum is\",sum_player)\n",
    "        print(\"Dealer Sum is: \",sum_deal)\n",
    "        break\n",
    "sum_deal=sum(a)"
   ]
  },
  {
   "cell_type": "code",
   "execution_count": 201,
   "metadata": {},
   "outputs": [
    {
     "name": "stdout",
     "output_type": "stream",
     "text": [
      "The Number on cards are [3, 4, 9]\n",
      "The Sum of Dealer is:  16\n",
      "The Number on cards are [3, 4, 9, 3]\n",
      "The Sum of Dealer is:  19\n",
      "Dealer wins as  19 is greater than 8\n"
     ]
    }
   ],
   "source": [
    "while sum_deal<17:\n",
    "    a.append(random.randint(1,11))\n",
    "    print(\"The Number on cards are\",a)\n",
    "    sum_deal=sum(a)\n",
    "    print(\"The Sum of Dealer is: \",sum_deal)\n",
    "if sum_deal<sum_player and sum_player<=21:\n",
    "    \n",
    "    print(\"Player wins as \",sum_player,\"is greater than\",sum_deal)\n",
    "elif sum_deal>21:\n",
    "    print(\"Player wins,Dealer busted with total of \",sum_deal)\n",
    "elif sum_player==sum_deal:\n",
    "    \n",
    "    print(\"Draw,Both Dealer and Player has same total \",sum_deal)\n",
    "else:\n",
    "    print(\"Dealer wins as \",sum_deal,\"is greater than\",sum_player)\n",
    "          "
   ]
  },
  {
   "cell_type": "code",
   "execution_count": null,
   "metadata": {},
   "outputs": [],
   "source": []
  },
  {
   "cell_type": "code",
   "execution_count": null,
   "metadata": {},
   "outputs": [],
   "source": []
  },
  {
   "cell_type": "code",
   "execution_count": 10,
   "metadata": {},
   "outputs": [
    {
     "name": "stdout",
     "output_type": "stream",
     "text": [
      "1234\n"
     ]
    },
    {
     "ename": "TypeError",
     "evalue": "'int' object is not iterable",
     "output_type": "error",
     "traceback": [
      "\u001b[1;31m---------------------------------------------------------------------------\u001b[0m",
      "\u001b[1;31mTypeError\u001b[0m                                 Traceback (most recent call last)",
      "\u001b[1;32m<ipython-input-10-c35a825c41ff>\u001b[0m in \u001b[0;36m<module>\u001b[1;34m()\u001b[0m\n\u001b[0;32m      1\u001b[0m \u001b[0ma\u001b[0m\u001b[1;33m=\u001b[0m\u001b[0mint\u001b[0m\u001b[1;33m(\u001b[0m\u001b[0minput\u001b[0m\u001b[1;33m(\u001b[0m\u001b[1;34m\"\"\u001b[0m\u001b[1;33m)\u001b[0m\u001b[1;33m)\u001b[0m\u001b[1;33m\u001b[0m\u001b[0m\n\u001b[1;32m----> 2\u001b[1;33m \u001b[0mb\u001b[0m\u001b[1;33m=\u001b[0m\u001b[0mlist\u001b[0m\u001b[1;33m(\u001b[0m\u001b[0ma\u001b[0m\u001b[1;33m)\u001b[0m\u001b[1;33m\u001b[0m\u001b[0m\n\u001b[0m\u001b[0;32m      3\u001b[0m \u001b[0mc\u001b[0m\u001b[1;33m=\u001b[0m\u001b[0mb\u001b[0m\u001b[1;33m[\u001b[0m\u001b[1;33m:\u001b[0m\u001b[1;33m:\u001b[0m\u001b[1;33m-\u001b[0m\u001b[1;36m1\u001b[0m\u001b[1;33m]\u001b[0m\u001b[1;33m\u001b[0m\u001b[0m\n\u001b[0;32m      4\u001b[0m \u001b[0mprint\u001b[0m\u001b[1;33m(\u001b[0m\u001b[0mc\u001b[0m\u001b[1;33m)\u001b[0m\u001b[1;33m\u001b[0m\u001b[0m\n",
      "\u001b[1;31mTypeError\u001b[0m: 'int' object is not iterable"
     ]
    }
   ],
   "source": [
    "a=int(input(\"\"))\n",
    "b=list(a)\n",
    "c=b[::-1]\n",
    "print(c)"
   ]
  },
  {
   "cell_type": "code",
   "execution_count": null,
   "metadata": {},
   "outputs": [],
   "source": []
  }
 ],
 "metadata": {
  "kernelspec": {
   "display_name": "Python 3",
   "language": "python",
   "name": "python3"
  },
  "language_info": {
   "codemirror_mode": {
    "name": "ipython",
    "version": 3
   },
   "file_extension": ".py",
   "mimetype": "text/x-python",
   "name": "python",
   "nbconvert_exporter": "python",
   "pygments_lexer": "ipython3",
   "version": "3.7.0"
  }
 },
 "nbformat": 4,
 "nbformat_minor": 2
}
